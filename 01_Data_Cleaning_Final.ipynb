{
 "cells": [
  {
   "cell_type": "markdown",
   "metadata": {},
   "source": [
    "# Data Cleaning of yelp review and business datasets"
   ]
  },
  {
   "cell_type": "code",
   "execution_count": 1,
   "metadata": {},
   "outputs": [],
   "source": [
    "import pandas as pd\n",
    "import json"
   ]
  },
  {
   "cell_type": "markdown",
   "metadata": {},
   "source": [
    "I had issues converting the business .json to a csv with the converter I had found so instead I found a way to just read in directly in from the .json"
   ]
  },
  {
   "cell_type": "code",
   "execution_count": null,
   "metadata": {},
   "outputs": [],
   "source": [
    "file_business = '/Users/jonathanbeatty/Yelp-Challenge-Dataset/yelp_academic_dataset_business.json'\n",
    "with open(file_business) as f:\n",
    "    df_business = pd.DataFrame(json.loads(line) for line in f)"
   ]
  },
  {
   "cell_type": "markdown",
   "metadata": {},
   "source": [
    "Reading in the complete csv of the yelp reviews for cleaning"
   ]
  },
  {
   "cell_type": "code",
   "execution_count": null,
   "metadata": {},
   "outputs": [],
   "source": [
    "df_yelp = pd.read_csv('./yelp_academic_dataset_review.csv')"
   ]
  },
  {
   "cell_type": "markdown",
   "metadata": {},
   "source": [
    "After exploring the review dataframe I used the following code to strip each object column of any b' and ' that were present so I could join the business data frame and the review dataframe on the business_id columns"
   ]
  },
  {
   "cell_type": "code",
   "execution_count": null,
   "metadata": {},
   "outputs": [],
   "source": [
    "df_obj = df_yelp.select_dtypes(['object'])\n",
    "for each in df_obj.columns:\n",
    "    df_yelp[each] = df_yelp[each].map(lambda x: x.lstrip(\"b'\").rstrip(\"'\"))"
   ]
  },
  {
   "cell_type": "markdown",
   "metadata": {},
   "source": [
    "Below I used this list comprehension to isolate the restaurant, food and bar categories out of the df_business['categories'] series, this will allow me to map the categories onto the yelp review dataframe to keep all the information in one dataframe"
   ]
  },
  {
   "cell_type": "code",
   "execution_count": null,
   "metadata": {},
   "outputs": [],
   "source": [
    "df_restaurants = df_business[['restaurant' in each.lower()\n",
    "             or 'food' in each.lower()\n",
    "             or 'bar' in each.lower() for each in df_business['categories']]]"
   ]
  },
  {
   "cell_type": "markdown",
   "metadata": {},
   "source": [
    "Below I am adding a name and state column to the review data frameby mapping the restaurants dataframe from above to the yelp business_id column, this will results in NAN values in all non restaurants/food establishments which i can just drop afterwards."
   ]
  },
  {
   "cell_type": "code",
   "execution_count": null,
   "metadata": {},
   "outputs": [],
   "source": [
    "df_yelp['name'] = df_yelp['business_id'].map(df_restaurants.set_index('business_id')['name'])\n",
    "\n",
    "df_yelp['state'] = df_yelp['business_id'].map(df_restaurants.set_index('business_id')['state'])"
   ]
  },
  {
   "cell_type": "code",
   "execution_count": null,
   "metadata": {},
   "outputs": [],
   "source": [
    "df_yelp = df_yelp.dropna()"
   ]
  },
  {
   "cell_type": "markdown",
   "metadata": {},
   "source": [
    "Adding a column that corresponds to the length of text for each review, this may be useful later and is a nice feature to have."
   ]
  },
  {
   "cell_type": "code",
   "execution_count": null,
   "metadata": {},
   "outputs": [],
   "source": [
    "df_yelp['text length'] = df_yelp['text'].apply(len)"
   ]
  },
  {
   "cell_type": "markdown",
   "metadata": {},
   "source": [
    "I only want to keep states from North America for consistency in language so I am creating a list of states to keep and then using the isin command to filter out the rest. "
   ]
  },
  {
   "cell_type": "code",
   "execution_count": null,
   "metadata": {},
   "outputs": [],
   "source": [
    "states_to_keep = ['NV', 'AZ', 'ON', 'NC', 'OH', 'PA', 'WI', 'IL', 'SC']"
   ]
  },
  {
   "cell_type": "code",
   "execution_count": null,
   "metadata": {},
   "outputs": [],
   "source": [
    "df_yelp = df_yelp[df_yelp.state.isin(states_to_keep)]"
   ]
  },
  {
   "cell_type": "markdown",
   "metadata": {},
   "source": [
    "Below I am creating a basic classifier function to creat a binary classification problem to model on as well, for ease of computation. Based on my domain knowledge of yelp restaurant reviews 3, 2 and 1 star reviews dont help a restaurant in the long run so I consider them negative and 4 and 5 will be positive. Its a very rudimentry classifcation but will serve our purposes for this project"
   ]
  },
  {
   "cell_type": "code",
   "execution_count": null,
   "metadata": {},
   "outputs": [],
   "source": [
    "def Classifier(stars):\n",
    "    if stars <= 3:\n",
    "        stars = 0\n",
    "    if stars > 3:\n",
    "        stars = 1\n",
    "    return stars"
   ]
  },
  {
   "cell_type": "code",
   "execution_count": null,
   "metadata": {},
   "outputs": [],
   "source": [
    "df_yelp['is_positive'] = df_yelp['stars'].map(lambda x: Classifier(x))"
   ]
  },
  {
   "cell_type": "markdown",
   "metadata": {},
   "source": [
    "Im dropping some of the excess columns that wont have any useful information for our purposes. These would be very useful in other problems but for what we are trying to solve for they will just add computational strain since its such a large dataset"
   ]
  },
  {
   "cell_type": "code",
   "execution_count": null,
   "metadata": {},
   "outputs": [],
   "source": [
    "df_yelp = df_yelp.drop(columns=['review_id', 'date', 'user_id'])"
   ]
  },
  {
   "cell_type": "markdown",
   "metadata": {},
   "source": [
    "Below I am saving the clean dataframe with all of the information we will need to do our topic modeling as well as machine learning modeling. The gzip compression is very useful for such a large dataset which took it from a 3 gig file to less than 1 gig."
   ]
  },
  {
   "cell_type": "code",
   "execution_count": null,
   "metadata": {},
   "outputs": [],
   "source": [
    "df_yelp.to_csv('restaurants_review_final.csv', index=False, compression='gzip')"
   ]
  }
 ],
 "metadata": {
  "kernelspec": {
   "display_name": "Python 3",
   "language": "python",
   "name": "python3"
  },
  "language_info": {
   "codemirror_mode": {
    "name": "ipython",
    "version": 3
   },
   "file_extension": ".py",
   "mimetype": "text/x-python",
   "name": "python",
   "nbconvert_exporter": "python",
   "pygments_lexer": "ipython3",
   "version": "3.6.5"
  }
 },
 "nbformat": 4,
 "nbformat_minor": 2
}
