{
 "cells": [
  {
   "cell_type": "markdown",
   "metadata": {},
   "source": [
    "# Baisc EDA Notebook\n",
    "This notebook will have some simple EDA and visualizations of a subset of our clean review csv from Notebook 1. The purpose of this is to use some basic seaborn and matplotlib plots to visualize some statitstical relationships between features. "
   ]
  },
  {
   "cell_type": "code",
   "execution_count": 2,
   "metadata": {},
   "outputs": [
    {
     "name": "stderr",
     "output_type": "stream",
     "text": [
      "/Users/jonathanbeatty/anaconda3/lib/python3.6/site-packages/nltk/twitter/__init__.py:20: UserWarning: The twython library has not been installed. Some functionality from the twitter package will not be available.\n",
      "  warnings.warn(\"The twython library has not been installed. \"\n"
     ]
    }
   ],
   "source": [
    "import pandas as pd\n",
    "import matplotlib.pyplot as plt\n",
    "import seaborn as sns\n",
    "from nltk.sentiment.vader import SentimentIntensityAnalyzer\n",
    "\n",
    "%matplotlib inline"
   ]
  },
  {
   "cell_type": "code",
   "execution_count": 4,
   "metadata": {},
   "outputs": [],
   "source": [
    "df = pd.read_csv('./restaurants_review_final.csv', compression= 'gzip')\n",
    "df_subset = df.sample(n=100000)"
   ]
  },
  {
   "cell_type": "code",
   "execution_count": 5,
   "metadata": {},
   "outputs": [
    {
     "data": {
      "text/html": [
       "<div>\n",
       "<style scoped>\n",
       "    .dataframe tbody tr th:only-of-type {\n",
       "        vertical-align: middle;\n",
       "    }\n",
       "\n",
       "    .dataframe tbody tr th {\n",
       "        vertical-align: top;\n",
       "    }\n",
       "\n",
       "    .dataframe thead th {\n",
       "        text-align: right;\n",
       "    }\n",
       "</style>\n",
       "<table border=\"1\" class=\"dataframe\">\n",
       "  <thead>\n",
       "    <tr style=\"text-align: right;\">\n",
       "      <th></th>\n",
       "      <th>stars</th>\n",
       "      <th>useful</th>\n",
       "      <th>text</th>\n",
       "      <th>funny</th>\n",
       "      <th>cool</th>\n",
       "      <th>business_id</th>\n",
       "      <th>name</th>\n",
       "      <th>state</th>\n",
       "      <th>text length</th>\n",
       "      <th>is_positive</th>\n",
       "    </tr>\n",
       "  </thead>\n",
       "  <tbody>\n",
       "    <tr>\n",
       "      <th>3033758</th>\n",
       "      <td>3</td>\n",
       "      <td>1</td>\n",
       "      <td>\"I went with some coworkers after work for dri...</td>\n",
       "      <td>0</td>\n",
       "      <td>0</td>\n",
       "      <td>K0j_Znzin0jShXVnpvW86A</td>\n",
       "      <td>Jaleo</td>\n",
       "      <td>NV</td>\n",
       "      <td>483</td>\n",
       "      <td>0</td>\n",
       "    </tr>\n",
       "    <tr>\n",
       "      <th>2290681</th>\n",
       "      <td>3</td>\n",
       "      <td>2</td>\n",
       "      <td>\"Nestled in a plaza at York Mills and Leslie i...</td>\n",
       "      <td>0</td>\n",
       "      <td>0</td>\n",
       "      <td>5sKb4h7R5gdhePSflPD0Tw</td>\n",
       "      <td>Kiku Japanese Cuisine</td>\n",
       "      <td>ON</td>\n",
       "      <td>625</td>\n",
       "      <td>0</td>\n",
       "    </tr>\n",
       "    <tr>\n",
       "      <th>3026014</th>\n",
       "      <td>5</td>\n",
       "      <td>0</td>\n",
       "      <td>This place if definitely \"a diamond in the rou...</td>\n",
       "      <td>0</td>\n",
       "      <td>0</td>\n",
       "      <td>awI4hHMfa7H0Xf0-ChU5hg</td>\n",
       "      <td>The Oyster Bar</td>\n",
       "      <td>NV</td>\n",
       "      <td>1484</td>\n",
       "      <td>1</td>\n",
       "    </tr>\n",
       "    <tr>\n",
       "      <th>850751</th>\n",
       "      <td>3</td>\n",
       "      <td>0</td>\n",
       "      <td>Well my chicken was good, guy who seated us no...</td>\n",
       "      <td>0</td>\n",
       "      <td>0</td>\n",
       "      <td>2IBupUvfmmPBrUupMuBETA</td>\n",
       "      <td>Saddle Bronc Grill</td>\n",
       "      <td>AZ</td>\n",
       "      <td>149</td>\n",
       "      <td>0</td>\n",
       "    </tr>\n",
       "    <tr>\n",
       "      <th>2359219</th>\n",
       "      <td>2</td>\n",
       "      <td>1</td>\n",
       "      <td>\"I was disappointed. The ratings and reviews o...</td>\n",
       "      <td>0</td>\n",
       "      <td>1</td>\n",
       "      <td>K64Uw3a2Enh2MznpwRHWKQ</td>\n",
       "      <td>Razz's Restaurant &amp; Catering</td>\n",
       "      <td>AZ</td>\n",
       "      <td>456</td>\n",
       "      <td>0</td>\n",
       "    </tr>\n",
       "  </tbody>\n",
       "</table>\n",
       "</div>"
      ],
      "text/plain": [
       "         stars  useful                                               text  \\\n",
       "3033758      3       1  \"I went with some coworkers after work for dri...   \n",
       "2290681      3       2  \"Nestled in a plaza at York Mills and Leslie i...   \n",
       "3026014      5       0  This place if definitely \"a diamond in the rou...   \n",
       "850751       3       0  Well my chicken was good, guy who seated us no...   \n",
       "2359219      2       1  \"I was disappointed. The ratings and reviews o...   \n",
       "\n",
       "         funny  cool             business_id                          name  \\\n",
       "3033758      0     0  K0j_Znzin0jShXVnpvW86A                         Jaleo   \n",
       "2290681      0     0  5sKb4h7R5gdhePSflPD0Tw         Kiku Japanese Cuisine   \n",
       "3026014      0     0  awI4hHMfa7H0Xf0-ChU5hg                The Oyster Bar   \n",
       "850751       0     0  2IBupUvfmmPBrUupMuBETA            Saddle Bronc Grill   \n",
       "2359219      0     1  K64Uw3a2Enh2MznpwRHWKQ  Razz's Restaurant & Catering   \n",
       "\n",
       "        state  text length  is_positive  \n",
       "3033758    NV          483            0  \n",
       "2290681    ON          625            0  \n",
       "3026014    NV         1484            1  \n",
       "850751     AZ          149            0  \n",
       "2359219    AZ          456            0  "
      ]
     },
     "execution_count": 5,
     "metadata": {},
     "output_type": "execute_result"
    }
   ],
   "source": [
    "df_subset.head()"
   ]
  },
  {
   "cell_type": "markdown",
   "metadata": {},
   "source": [
    "Below I am going to create a facet grid as well as some other early graphs to show some basic EDA aspects of this data."
   ]
  },
  {
   "cell_type": "code",
   "execution_count": 7,
   "metadata": {},
   "outputs": [
    {
     "data": {
      "image/png": "[encoded data removed]",
      "text/plain": [
       "<Figure size 1080x216 with 5 Axes>"
      ]
     },
     "metadata": {},
     "output_type": "display_data"
    }
   ],
   "source": [
    "g = sns.FacetGrid(data=df_subset, col='stars')\n",
    "g.map(plt.hist, 'text length', bins=50)\n",
    "plt.savefig('./visuals/stars_text.png')"
   ]
  },
  {
   "cell_type": "markdown",
   "metadata": {},
   "source": [
    "Below is a facet grid of positive and negative reviews. Its becomign very clear that people tend to talk far more about their negstive experiences than their posistve ones. This is very useful information that many restaurants arent using!"
   ]
  },
  {
   "cell_type": "code",
   "execution_count": 36,
   "metadata": {},
   "outputs": [
    {
     "data": {
      "image/png": "[encoded data removed]",
      "text/plain": [
       "<Figure size 432x216 with 2 Axes>"
      ]
     },
     "metadata": {},
     "output_type": "display_data"
    }
   ],
   "source": [
    "g = sns.FacetGrid(data=df_subset, col='is_positive')\n",
    "g.map(plt.hist, 'text length', bins=50)\n",
    "plt.savefig('./visuals/positive_text.png')"
   ]
  },
  {
   "cell_type": "markdown",
   "metadata": {},
   "source": [
    "Below is a box plot of the stars based on text length"
   ]
  },
  {
   "cell_type": "code",
   "execution_count": 8,
   "metadata": {},
   "outputs": [
    {
     "data": {
      "image/png": "[encoded data removed]",
      "text/plain": [
       "<Figure size 432x288 with 1 Axes>"
      ]
     },
     "metadata": {},
     "output_type": "display_data"
    }
   ],
   "source": [
    "sns.boxplot(x='stars', y='text length', data=df_subset)\n",
    "plt.savefig('./visuals/box_stars_text.png')"
   ]
  },
  {
   "cell_type": "markdown",
   "metadata": {},
   "source": [
    "Below is a box plot of the 'is_positive' column to get a better representation for our binary classification"
   ]
  },
  {
   "cell_type": "code",
   "execution_count": 35,
   "metadata": {},
   "outputs": [
    {
     "data": {
      "image/png": "[encoded data removed]",
      "text/plain": [
       "<Figure size 432x288 with 1 Axes>"
      ]
     },
     "metadata": {},
     "output_type": "display_data"
    }
   ],
   "source": [
    "sns.boxplot(x='is_positive', y='text length', data=df_subset)\n",
    "plt.savefig('./visuals/box_positive_text.png')"
   ]
  },
  {
   "cell_type": "markdown",
   "metadata": {},
   "source": [
    "Below is a basic histogram of the distribution of stars in the dataset. Suprisingly there is an extremely large amount of 5 star reviews"
   ]
  },
  {
   "cell_type": "code",
   "execution_count": 18,
   "metadata": {},
   "outputs": [
    {
     "data": {
      "image/png": "[encoded data removed]",
      "text/plain": [
       "<Figure size 432x288 with 1 Axes>"
      ]
     },
     "metadata": {},
     "output_type": "display_data"
    }
   ],
   "source": [
    "plt.hist(df_subset['stars'])\n",
    "plt.title('Histogram of Star Distribution')\n",
    "plt.xticks(ticks= range(1,6))\n",
    "plt.savefig('./visuals/eda_hist.png');"
   ]
  },
  {
   "cell_type": "code",
   "execution_count": 20,
   "metadata": {},
   "outputs": [
    {
     "data": {
      "text/html": [
       "<div>\n",
       "<style scoped>\n",
       "    .dataframe tbody tr th:only-of-type {\n",
       "        vertical-align: middle;\n",
       "    }\n",
       "\n",
       "    .dataframe tbody tr th {\n",
       "        vertical-align: top;\n",
       "    }\n",
       "\n",
       "    .dataframe thead th {\n",
       "        text-align: right;\n",
       "    }\n",
       "</style>\n",
       "<table border=\"1\" class=\"dataframe\">\n",
       "  <thead>\n",
       "    <tr style=\"text-align: right;\">\n",
       "      <th></th>\n",
       "      <th>useful</th>\n",
       "      <th>funny</th>\n",
       "      <th>cool</th>\n",
       "      <th>text length</th>\n",
       "      <th>is_positive</th>\n",
       "    </tr>\n",
       "  </thead>\n",
       "  <tbody>\n",
       "    <tr>\n",
       "      <th>useful</th>\n",
       "      <td>1.000000</td>\n",
       "      <td>0.985189</td>\n",
       "      <td>-0.527247</td>\n",
       "      <td>0.842460</td>\n",
       "      <td>-0.699702</td>\n",
       "    </tr>\n",
       "    <tr>\n",
       "      <th>funny</th>\n",
       "      <td>0.985189</td>\n",
       "      <td>1.000000</td>\n",
       "      <td>-0.499135</td>\n",
       "      <td>0.892149</td>\n",
       "      <td>-0.771909</td>\n",
       "    </tr>\n",
       "    <tr>\n",
       "      <th>cool</th>\n",
       "      <td>-0.527247</td>\n",
       "      <td>-0.499135</td>\n",
       "      <td>1.000000</td>\n",
       "      <td>-0.348983</td>\n",
       "      <td>0.692765</td>\n",
       "    </tr>\n",
       "    <tr>\n",
       "      <th>text length</th>\n",
       "      <td>0.842460</td>\n",
       "      <td>0.892149</td>\n",
       "      <td>-0.348983</td>\n",
       "      <td>1.000000</td>\n",
       "      <td>-0.842759</td>\n",
       "    </tr>\n",
       "    <tr>\n",
       "      <th>is_positive</th>\n",
       "      <td>-0.699702</td>\n",
       "      <td>-0.771909</td>\n",
       "      <td>0.692765</td>\n",
       "      <td>-0.842759</td>\n",
       "      <td>1.000000</td>\n",
       "    </tr>\n",
       "  </tbody>\n",
       "</table>\n",
       "</div>"
      ],
      "text/plain": [
       "               useful     funny      cool  text length  is_positive\n",
       "useful       1.000000  0.985189 -0.527247     0.842460    -0.699702\n",
       "funny        0.985189  1.000000 -0.499135     0.892149    -0.771909\n",
       "cool        -0.527247 -0.499135  1.000000    -0.348983     0.692765\n",
       "text length  0.842460  0.892149 -0.348983     1.000000    -0.842759\n",
       "is_positive -0.699702 -0.771909  0.692765    -0.842759     1.000000"
      ]
     },
     "execution_count": 20,
     "metadata": {},
     "output_type": "execute_result"
    }
   ],
   "source": [
    "df_stars = df_subset.groupby('stars').mean()\n",
    "df_stars.corr()"
   ]
  },
  {
   "cell_type": "code",
   "execution_count": 21,
   "metadata": {},
   "outputs": [
    {
     "data": {
      "image/png": "[encoded data removed]",
      "text/plain": [
       "<Figure size 432x288 with 2 Axes>"
      ]
     },
     "metadata": {},
     "output_type": "display_data"
    }
   ],
   "source": [
    "sns.heatmap(data=df_stars.corr(), annot=True)\n",
    "plt.savefig('./visuals/heatmap.png')"
   ]
  },
  {
   "cell_type": "markdown",
   "metadata": {},
   "source": [
    "Its interesting looking at the heat map above, theres a very high correlation between reviews that we classified as positive and the \"cool\" vote. Perhaps this means that more restaurants should view the \"cool\" vote as more important to yelp success than other categories. Its also very interesting to see that text length, useful and funny all have a very negative correlation with the is positive category. "
   ]
  },
  {
   "cell_type": "code",
   "execution_count": 23,
   "metadata": {},
   "outputs": [],
   "source": [
    "top_restaurants = df.name.value_counts().index[:20].tolist()"
   ]
  },
  {
   "cell_type": "code",
   "execution_count": 24,
   "metadata": {},
   "outputs": [
    {
     "data": {
      "image/png": "[encoded data removed]",
      "text/plain": [
       "<Figure size 864x720 with 1 Axes>"
      ]
     },
     "metadata": {},
     "output_type": "display_data"
    }
   ],
   "source": [
    "df_review_top = df.loc[df['name'].isin(top_restaurants)]\n",
    "# now we take the name column and count mean of stars of each unique business name (I am using pandas groupby function for this. If you don't know what pandas groupby function does, please search on Google)\n",
    "# then sort values in ascending order \n",
    "# then plot the graph\n",
    "df_review_top.groupby(df_review_top.name)['stars'].mean().sort_values(ascending=True).plot(kind='barh',figsize=(12, 10))\n",
    "# set y ticks font size to 18 for easy readable purposes.\n",
    "plt.yticks(fontsize=18)\n",
    "# set the title of the graph\n",
    "plt.title('Top rated restaurants on Yelp',fontsize=20)\n",
    "# set y label of the graph and change fontsize to 18 for readablity purposes. \n",
    "plt.ylabel('Restaurants names', fontsize=18)\n",
    "# set x label to 'Ratings'\n",
    "plt.xlabel('Ratings', fontsize=18)\n",
    "# now finally show the graph in a new window. \n",
    "plt.savefig('./visuals/top_rated.png')\n",
    "plt.show()"
   ]
  },
  {
   "cell_type": "markdown",
   "metadata": {},
   "source": [
    "### Vader Sentiment Analysis on Un-Tokenized Reviews\n",
    "I wanted to do this as part of my initial EDA to just get an idea about how VADER sees the sentiment of the entire reviews. We will be doing a VADER analysis on the Tf-idf vectorizer and Word2Vec model in the later notebooks but I thought this could be useful."
   ]
  },
  {
   "cell_type": "code",
   "execution_count": 25,
   "metadata": {},
   "outputs": [
    {
     "name": "stdout",
     "output_type": "stream",
     "text": [
      "<class 'pandas.core.frame.DataFrame'>\n",
      "RangeIndex: 100000 entries, 0 to 99999\n",
      "Data columns (total 5 columns):\n",
      "compound    100000 non-null float64\n",
      "neg         100000 non-null float64\n",
      "neu         100000 non-null float64\n",
      "pos         100000 non-null float64\n",
      "review      100000 non-null object\n",
      "dtypes: float64(4), object(1)\n",
      "memory usage: 3.8+ MB\n"
     ]
    }
   ],
   "source": [
    "sia = SentimentIntensityAnalyzer()\n",
    "\n",
    "dicts = []\n",
    "\n",
    "for review in df_subset['text']:\n",
    "    scores = sia.polarity_scores(review)\n",
    "    scores['review'] = review\n",
    "    dicts.append(scores)\n",
    "\n",
    "df_vader_review = pd.DataFrame(dicts)\n",
    "\n",
    "df_vader_review.info()"
   ]
  },
  {
   "cell_type": "code",
   "execution_count": 26,
   "metadata": {},
   "outputs": [],
   "source": [
    "df_vader_review['is_positive'] = df_subset['is_positive'].values"
   ]
  },
  {
   "cell_type": "markdown",
   "metadata": {},
   "source": [
    "The command below is very useful for expanding the text of the review section for easier readability."
   ]
  },
  {
   "cell_type": "code",
   "execution_count": 43,
   "metadata": {},
   "outputs": [],
   "source": [
    "pd.set_option('display.max_colwidth', 150)"
   ]
  },
  {
   "cell_type": "code",
   "execution_count": 44,
   "metadata": {},
   "outputs": [
    {
     "data": {
      "text/html": [
       "<div>\n",
       "<style scoped>\n",
       "    .dataframe tbody tr th:only-of-type {\n",
       "        vertical-align: middle;\n",
       "    }\n",
       "\n",
       "    .dataframe tbody tr th {\n",
       "        vertical-align: top;\n",
       "    }\n",
       "\n",
       "    .dataframe thead th {\n",
       "        text-align: right;\n",
       "    }\n",
       "</style>\n",
       "<table border=\"1\" class=\"dataframe\">\n",
       "  <thead>\n",
       "    <tr style=\"text-align: right;\">\n",
       "      <th></th>\n",
       "      <th>compound</th>\n",
       "      <th>neg</th>\n",
       "      <th>neu</th>\n",
       "      <th>pos</th>\n",
       "      <th>review</th>\n",
       "      <th>is_positive</th>\n",
       "    </tr>\n",
       "  </thead>\n",
       "  <tbody>\n",
       "    <tr>\n",
       "      <th>0</th>\n",
       "      <td>0.6287</td>\n",
       "      <td>0.058</td>\n",
       "      <td>0.841</td>\n",
       "      <td>0.101</td>\n",
       "      <td>\"I went with some coworkers after work for drinks and dinner. I have to say I was surprised at the rating. Now that I have dined here I understand...</td>\n",
       "      <td>0</td>\n",
       "    </tr>\n",
       "    <tr>\n",
       "      <th>1</th>\n",
       "      <td>0.9790</td>\n",
       "      <td>0.042</td>\n",
       "      <td>0.719</td>\n",
       "      <td>0.239</td>\n",
       "      <td>\"Nestled in a plaza at York Mills and Leslie in North York is a all you can eat Japanese restaurant. In terms of AYCE, this restaurant provides a ...</td>\n",
       "      <td>0</td>\n",
       "    </tr>\n",
       "    <tr>\n",
       "      <th>2</th>\n",
       "      <td>0.9887</td>\n",
       "      <td>0.032</td>\n",
       "      <td>0.823</td>\n",
       "      <td>0.146</td>\n",
       "      <td>This place if definitely \"a diamond in the rough.\"  Yes, you have get leave the glitz of the Strip, overlook the atmosphere of this old local hote...</td>\n",
       "      <td>1</td>\n",
       "    </tr>\n",
       "    <tr>\n",
       "      <th>3</th>\n",
       "      <td>0.1270</td>\n",
       "      <td>0.164</td>\n",
       "      <td>0.630</td>\n",
       "      <td>0.205</td>\n",
       "      <td>Well my chicken was good, guy who seated us not too friendly,  food was ok though, thought it was pricey for final bill, experience was not the best!</td>\n",
       "      <td>0</td>\n",
       "    </tr>\n",
       "    <tr>\n",
       "      <th>4</th>\n",
       "      <td>0.8657</td>\n",
       "      <td>0.023</td>\n",
       "      <td>0.854</td>\n",
       "      <td>0.122</td>\n",
       "      <td>\"I was disappointed. The ratings and reviews on Yelp raised my expectations for this place. If you're a local I can see the appeal. Great wait sta...</td>\n",
       "      <td>0</td>\n",
       "    </tr>\n",
       "  </tbody>\n",
       "</table>\n",
       "</div>"
      ],
      "text/plain": [
       "   compound    neg    neu    pos  \\\n",
       "0    0.6287  0.058  0.841  0.101   \n",
       "1    0.9790  0.042  0.719  0.239   \n",
       "2    0.9887  0.032  0.823  0.146   \n",
       "3    0.1270  0.164  0.630  0.205   \n",
       "4    0.8657  0.023  0.854  0.122   \n",
       "\n",
       "                                                                                                                                                  review  \\\n",
       "0  \"I went with some coworkers after work for drinks and dinner. I have to say I was surprised at the rating. Now that I have dined here I understand...   \n",
       "1  \"Nestled in a plaza at York Mills and Leslie in North York is a all you can eat Japanese restaurant. In terms of AYCE, this restaurant provides a ...   \n",
       "2  This place if definitely \"a diamond in the rough.\"  Yes, you have get leave the glitz of the Strip, overlook the atmosphere of this old local hote...   \n",
       "3  Well my chicken was good, guy who seated us not too friendly,  food was ok though, thought it was pricey for final bill, experience was not the best!   \n",
       "4  \"I was disappointed. The ratings and reviews on Yelp raised my expectations for this place. If you're a local I can see the appeal. Great wait sta...   \n",
       "\n",
       "   is_positive  \n",
       "0            0  \n",
       "1            0  \n",
       "2            1  \n",
       "3            0  \n",
       "4            0  "
      ]
     },
     "execution_count": 44,
     "metadata": {},
     "output_type": "execute_result"
    }
   ],
   "source": [
    "df_vader_review.head()"
   ]
  },
  {
   "cell_type": "markdown",
   "metadata": {},
   "source": [
    "##### Top 5 positive reviews"
   ]
  },
  {
   "cell_type": "code",
   "execution_count": 45,
   "metadata": {},
   "outputs": [
    {
     "data": {
      "text/html": [
       "<div>\n",
       "<style scoped>\n",
       "    .dataframe tbody tr th:only-of-type {\n",
       "        vertical-align: middle;\n",
       "    }\n",
       "\n",
       "    .dataframe tbody tr th {\n",
       "        vertical-align: top;\n",
       "    }\n",
       "\n",
       "    .dataframe thead th {\n",
       "        text-align: right;\n",
       "    }\n",
       "</style>\n",
       "<table border=\"1\" class=\"dataframe\">\n",
       "  <thead>\n",
       "    <tr style=\"text-align: right;\">\n",
       "      <th></th>\n",
       "      <th>compound</th>\n",
       "      <th>neg</th>\n",
       "      <th>neu</th>\n",
       "      <th>pos</th>\n",
       "      <th>review</th>\n",
       "      <th>is_positive</th>\n",
       "    </tr>\n",
       "  </thead>\n",
       "  <tbody>\n",
       "    <tr>\n",
       "      <th>50399</th>\n",
       "      <td>0.6114</td>\n",
       "      <td>0.0</td>\n",
       "      <td>0.000</td>\n",
       "      <td>1.000</td>\n",
       "      <td>Delicious!</td>\n",
       "      <td>1</td>\n",
       "    </tr>\n",
       "    <tr>\n",
       "      <th>76824</th>\n",
       "      <td>0.9601</td>\n",
       "      <td>0.0</td>\n",
       "      <td>0.135</td>\n",
       "      <td>0.865</td>\n",
       "      <td>Elegant, comfortable, inspiring. Beautiful and delicious food. Always a smile.</td>\n",
       "      <td>1</td>\n",
       "    </tr>\n",
       "    <tr>\n",
       "      <th>42254</th>\n",
       "      <td>0.6892</td>\n",
       "      <td>0.0</td>\n",
       "      <td>0.176</td>\n",
       "      <td>0.824</td>\n",
       "      <td>Great pierogis!!</td>\n",
       "      <td>1</td>\n",
       "    </tr>\n",
       "    <tr>\n",
       "      <th>51792</th>\n",
       "      <td>0.6588</td>\n",
       "      <td>0.0</td>\n",
       "      <td>0.185</td>\n",
       "      <td>0.815</td>\n",
       "      <td>Great sushi!</td>\n",
       "      <td>1</td>\n",
       "    </tr>\n",
       "    <tr>\n",
       "      <th>21540</th>\n",
       "      <td>0.8910</td>\n",
       "      <td>0.0</td>\n",
       "      <td>0.205</td>\n",
       "      <td>0.795</td>\n",
       "      <td>Great teas, delicious food, incredible service.\\nHighly recommend.</td>\n",
       "      <td>1</td>\n",
       "    </tr>\n",
       "  </tbody>\n",
       "</table>\n",
       "</div>"
      ],
      "text/plain": [
       "       compound  neg    neu    pos  \\\n",
       "50399    0.6114  0.0  0.000  1.000   \n",
       "76824    0.9601  0.0  0.135  0.865   \n",
       "42254    0.6892  0.0  0.176  0.824   \n",
       "51792    0.6588  0.0  0.185  0.815   \n",
       "21540    0.8910  0.0  0.205  0.795   \n",
       "\n",
       "                                                                               review  \\\n",
       "50399                                                                      Delicious!   \n",
       "76824  Elegant, comfortable, inspiring. Beautiful and delicious food. Always a smile.   \n",
       "42254                                                                Great pierogis!!   \n",
       "51792                                                                    Great sushi!   \n",
       "21540              Great teas, delicious food, incredible service.\\nHighly recommend.   \n",
       "\n",
       "       is_positive  \n",
       "50399            1  \n",
       "76824            1  \n",
       "42254            1  \n",
       "51792            1  \n",
       "21540            1  "
      ]
     },
     "execution_count": 45,
     "metadata": {},
     "output_type": "execute_result"
    }
   ],
   "source": [
    "df_vader_review.sort_values(by='pos', ascending=False).head(5)"
   ]
  },
  {
   "cell_type": "markdown",
   "metadata": {},
   "source": [
    "##### Top 5 negative reviews"
   ]
  },
  {
   "cell_type": "code",
   "execution_count": 46,
   "metadata": {},
   "outputs": [
    {
     "data": {
      "text/html": [
       "<div>\n",
       "<style scoped>\n",
       "    .dataframe tbody tr th:only-of-type {\n",
       "        vertical-align: middle;\n",
       "    }\n",
       "\n",
       "    .dataframe tbody tr th {\n",
       "        vertical-align: top;\n",
       "    }\n",
       "\n",
       "    .dataframe thead th {\n",
       "        text-align: right;\n",
       "    }\n",
       "</style>\n",
       "<table border=\"1\" class=\"dataframe\">\n",
       "  <thead>\n",
       "    <tr style=\"text-align: right;\">\n",
       "      <th></th>\n",
       "      <th>compound</th>\n",
       "      <th>neg</th>\n",
       "      <th>neu</th>\n",
       "      <th>pos</th>\n",
       "      <th>review</th>\n",
       "      <th>is_positive</th>\n",
       "    </tr>\n",
       "  </thead>\n",
       "  <tbody>\n",
       "    <tr>\n",
       "      <th>58046</th>\n",
       "      <td>-0.6103</td>\n",
       "      <td>0.714</td>\n",
       "      <td>0.286</td>\n",
       "      <td>0.0</td>\n",
       "      <td>Oooops sorry! Wrong napoli!</td>\n",
       "      <td>1</td>\n",
       "    </tr>\n",
       "    <tr>\n",
       "      <th>16572</th>\n",
       "      <td>-0.9379</td>\n",
       "      <td>0.707</td>\n",
       "      <td>0.293</td>\n",
       "      <td>0.0</td>\n",
       "      <td>horrible service!! naaaasty food! ugh! sooo displeased! worst experience ever!</td>\n",
       "      <td>0</td>\n",
       "    </tr>\n",
       "    <tr>\n",
       "      <th>2025</th>\n",
       "      <td>-0.7739</td>\n",
       "      <td>0.692</td>\n",
       "      <td>0.308</td>\n",
       "      <td>0.0</td>\n",
       "      <td>no refills on coffee, WTF</td>\n",
       "      <td>0</td>\n",
       "    </tr>\n",
       "    <tr>\n",
       "      <th>12983</th>\n",
       "      <td>-0.9725</td>\n",
       "      <td>0.633</td>\n",
       "      <td>0.367</td>\n",
       "      <td>0.0</td>\n",
       "      <td>\"Very pricey , bad menu, rude staff. Even Naan was not on the menu! Seriously ! Bad Bad Bad! Won't recommend at all. Avoid\"</td>\n",
       "      <td>0</td>\n",
       "    </tr>\n",
       "    <tr>\n",
       "      <th>90378</th>\n",
       "      <td>-0.9507</td>\n",
       "      <td>0.565</td>\n",
       "      <td>0.435</td>\n",
       "      <td>0.0</td>\n",
       "      <td>Food were too salty. The waitress was rude unprofessional and disgusting old bitch !!!!. No more this place...</td>\n",
       "      <td>0</td>\n",
       "    </tr>\n",
       "  </tbody>\n",
       "</table>\n",
       "</div>"
      ],
      "text/plain": [
       "       compound    neg    neu  pos  \\\n",
       "58046   -0.6103  0.714  0.286  0.0   \n",
       "16572   -0.9379  0.707  0.293  0.0   \n",
       "2025    -0.7739  0.692  0.308  0.0   \n",
       "12983   -0.9725  0.633  0.367  0.0   \n",
       "90378   -0.9507  0.565  0.435  0.0   \n",
       "\n",
       "                                                                                                                            review  \\\n",
       "58046                                                                                                  Oooops sorry! Wrong napoli!   \n",
       "16572                                               horrible service!! naaaasty food! ugh! sooo displeased! worst experience ever!   \n",
       "2025                                                                                                     no refills on coffee, WTF   \n",
       "12983  \"Very pricey , bad menu, rude staff. Even Naan was not on the menu! Seriously ! Bad Bad Bad! Won't recommend at all. Avoid\"   \n",
       "90378               Food were too salty. The waitress was rude unprofessional and disgusting old bitch !!!!. No more this place...   \n",
       "\n",
       "       is_positive  \n",
       "58046            1  \n",
       "16572            0  \n",
       "2025             0  \n",
       "12983            0  \n",
       "90378            0  "
      ]
     },
     "execution_count": 46,
     "metadata": {},
     "output_type": "execute_result"
    }
   ],
   "source": [
    "df_vader_review.sort_values(by='neg', ascending=False).head(5)"
   ]
  },
  {
   "cell_type": "markdown",
   "metadata": {},
   "source": [
    "##### Top 5 compound Reviews"
   ]
  },
  {
   "cell_type": "code",
   "execution_count": 47,
   "metadata": {},
   "outputs": [
    {
     "data": {
      "text/html": [
       "<div>\n",
       "<style scoped>\n",
       "    .dataframe tbody tr th:only-of-type {\n",
       "        vertical-align: middle;\n",
       "    }\n",
       "\n",
       "    .dataframe tbody tr th {\n",
       "        vertical-align: top;\n",
       "    }\n",
       "\n",
       "    .dataframe thead th {\n",
       "        text-align: right;\n",
       "    }\n",
       "</style>\n",
       "<table border=\"1\" class=\"dataframe\">\n",
       "  <thead>\n",
       "    <tr style=\"text-align: right;\">\n",
       "      <th></th>\n",
       "      <th>compound</th>\n",
       "      <th>neg</th>\n",
       "      <th>neu</th>\n",
       "      <th>pos</th>\n",
       "      <th>review</th>\n",
       "      <th>is_positive</th>\n",
       "    </tr>\n",
       "  </thead>\n",
       "  <tbody>\n",
       "    <tr>\n",
       "      <th>31775</th>\n",
       "      <td>0.9998</td>\n",
       "      <td>0.026</td>\n",
       "      <td>0.677</td>\n",
       "      <td>0.297</td>\n",
       "      <td>Only a Sith deals in absolutes... but this was ABSOLUTELY the best Chicken Parmesan I\\'ve ever had in a restaurant. I don\\'t know how else to star...</td>\n",
       "      <td>1</td>\n",
       "    </tr>\n",
       "    <tr>\n",
       "      <th>74718</th>\n",
       "      <td>0.9997</td>\n",
       "      <td>0.014</td>\n",
       "      <td>0.766</td>\n",
       "      <td>0.220</td>\n",
       "      <td>\"My gf's and I were staying at Aria and this restaurant was luckily downstairs. It's hard to find good French food/restaurant in LA so I was prett...</td>\n",
       "      <td>1</td>\n",
       "    </tr>\n",
       "    <tr>\n",
       "      <th>72080</th>\n",
       "      <td>0.9997</td>\n",
       "      <td>0.034</td>\n",
       "      <td>0.714</td>\n",
       "      <td>0.252</td>\n",
       "      <td>Talk about \"Hot New Business\" yelp style. Not often get into the whole boba drinks but every once in while get my boba on. Brew Tea Bar forget the...</td>\n",
       "      <td>1</td>\n",
       "    </tr>\n",
       "    <tr>\n",
       "      <th>49335</th>\n",
       "      <td>0.9997</td>\n",
       "      <td>0.030</td>\n",
       "      <td>0.671</td>\n",
       "      <td>0.299</td>\n",
       "      <td>ABSOLUTELY FABULOUS! I ordered a cake for my daughters 5th birthday,that we celebrated in Las Vegas so I was on a mission to find a great bakery.....</td>\n",
       "      <td>1</td>\n",
       "    </tr>\n",
       "    <tr>\n",
       "      <th>88505</th>\n",
       "      <td>0.9997</td>\n",
       "      <td>0.014</td>\n",
       "      <td>0.743</td>\n",
       "      <td>0.243</td>\n",
       "      <td>\"3.5 stars to 4 stars. Service here was excellent and easily a 4 star... doughnuts can be a 4 but my experience is more miss than an outright hit....</td>\n",
       "      <td>1</td>\n",
       "    </tr>\n",
       "  </tbody>\n",
       "</table>\n",
       "</div>"
      ],
      "text/plain": [
       "       compound    neg    neu    pos  \\\n",
       "31775    0.9998  0.026  0.677  0.297   \n",
       "74718    0.9997  0.014  0.766  0.220   \n",
       "72080    0.9997  0.034  0.714  0.252   \n",
       "49335    0.9997  0.030  0.671  0.299   \n",
       "88505    0.9997  0.014  0.743  0.243   \n",
       "\n",
       "                                                                                                                                                      review  \\\n",
       "31775  Only a Sith deals in absolutes... but this was ABSOLUTELY the best Chicken Parmesan I\\'ve ever had in a restaurant. I don\\'t know how else to star...   \n",
       "74718  \"My gf's and I were staying at Aria and this restaurant was luckily downstairs. It's hard to find good French food/restaurant in LA so I was prett...   \n",
       "72080  Talk about \"Hot New Business\" yelp style. Not often get into the whole boba drinks but every once in while get my boba on. Brew Tea Bar forget the...   \n",
       "49335  ABSOLUTELY FABULOUS! I ordered a cake for my daughters 5th birthday,that we celebrated in Las Vegas so I was on a mission to find a great bakery.....   \n",
       "88505  \"3.5 stars to 4 stars. Service here was excellent and easily a 4 star... doughnuts can be a 4 but my experience is more miss than an outright hit....   \n",
       "\n",
       "       is_positive  \n",
       "31775            1  \n",
       "74718            1  \n",
       "72080            1  \n",
       "49335            1  \n",
       "88505            1  "
      ]
     },
     "execution_count": 47,
     "metadata": {},
     "output_type": "execute_result"
    }
   ],
   "source": [
    "df_vader_review.sort_values(by='compound', ascending=False).head(5)"
   ]
  },
  {
   "cell_type": "markdown",
   "metadata": {},
   "source": [
    "##### Top 5 neutral reviews"
   ]
  },
  {
   "cell_type": "code",
   "execution_count": 48,
   "metadata": {},
   "outputs": [
    {
     "data": {
      "text/html": [
       "<div>\n",
       "<style scoped>\n",
       "    .dataframe tbody tr th:only-of-type {\n",
       "        vertical-align: middle;\n",
       "    }\n",
       "\n",
       "    .dataframe tbody tr th {\n",
       "        vertical-align: top;\n",
       "    }\n",
       "\n",
       "    .dataframe thead th {\n",
       "        text-align: right;\n",
       "    }\n",
       "</style>\n",
       "<table border=\"1\" class=\"dataframe\">\n",
       "  <thead>\n",
       "    <tr style=\"text-align: right;\">\n",
       "      <th></th>\n",
       "      <th>compound</th>\n",
       "      <th>neg</th>\n",
       "      <th>neu</th>\n",
       "      <th>pos</th>\n",
       "      <th>review</th>\n",
       "      <th>is_positive</th>\n",
       "    </tr>\n",
       "  </thead>\n",
       "  <tbody>\n",
       "    <tr>\n",
       "      <th>11900</th>\n",
       "      <td>0.0</td>\n",
       "      <td>0.0</td>\n",
       "      <td>1.0</td>\n",
       "      <td>0.0</td>\n",
       "      <td>\"Una de Las cosas ma's importantes en todo negocio es su personal y encontrar una sonrisa en cada empleado de abuelas hace mucho mejor la experien...</td>\n",
       "      <td>1</td>\n",
       "    </tr>\n",
       "    <tr>\n",
       "      <th>68448</th>\n",
       "      <td>0.0</td>\n",
       "      <td>0.0</td>\n",
       "      <td>1.0</td>\n",
       "      <td>0.0</td>\n",
       "      <td>\"The wine-angel ala Mission Impossible act hanging from a wire within the wine chamber is intriguing....Interesting, after all, it's Vegas, baby! ...</td>\n",
       "      <td>1</td>\n",
       "    </tr>\n",
       "    <tr>\n",
       "      <th>68763</th>\n",
       "      <td>0.0</td>\n",
       "      <td>0.0</td>\n",
       "      <td>1.0</td>\n",
       "      <td>0.0</td>\n",
       "      <td>\"I would say cuz this mcdonals it's always so busy since there is a high school nearby and community center and staffs are not enough so dont expe...</td>\n",
       "      <td>0</td>\n",
       "    </tr>\n",
       "    <tr>\n",
       "      <th>4866</th>\n",
       "      <td>0.0</td>\n",
       "      <td>0.0</td>\n",
       "      <td>1.0</td>\n",
       "      <td>0.0</td>\n",
       "      <td>\"A place Togo go to once just to try out.  Must be a red meat eater, I'm not but the salad bar was outstanding.\"</td>\n",
       "      <td>1</td>\n",
       "    </tr>\n",
       "    <tr>\n",
       "      <th>68588</th>\n",
       "      <td>0.0</td>\n",
       "      <td>0.0</td>\n",
       "      <td>1.0</td>\n",
       "      <td>0.0</td>\n",
       "      <td>not much choice compare to other buffet and a little pricey .... taste was not spectacular but presentation was great....</td>\n",
       "      <td>0</td>\n",
       "    </tr>\n",
       "  </tbody>\n",
       "</table>\n",
       "</div>"
      ],
      "text/plain": [
       "       compound  neg  neu  pos  \\\n",
       "11900       0.0  0.0  1.0  0.0   \n",
       "68448       0.0  0.0  1.0  0.0   \n",
       "68763       0.0  0.0  1.0  0.0   \n",
       "4866        0.0  0.0  1.0  0.0   \n",
       "68588       0.0  0.0  1.0  0.0   \n",
       "\n",
       "                                                                                                                                                      review  \\\n",
       "11900  \"Una de Las cosas ma's importantes en todo negocio es su personal y encontrar una sonrisa en cada empleado de abuelas hace mucho mejor la experien...   \n",
       "68448  \"The wine-angel ala Mission Impossible act hanging from a wire within the wine chamber is intriguing....Interesting, after all, it's Vegas, baby! ...   \n",
       "68763  \"I would say cuz this mcdonals it's always so busy since there is a high school nearby and community center and staffs are not enough so dont expe...   \n",
       "4866                                        \"A place Togo go to once just to try out.  Must be a red meat eater, I'm not but the salad bar was outstanding.\"   \n",
       "68588                              not much choice compare to other buffet and a little pricey .... taste was not spectacular but presentation was great....   \n",
       "\n",
       "       is_positive  \n",
       "11900            1  \n",
       "68448            1  \n",
       "68763            0  \n",
       "4866             1  \n",
       "68588            0  "
      ]
     },
     "execution_count": 48,
     "metadata": {},
     "output_type": "execute_result"
    }
   ],
   "source": [
    "df_vader_review.sort_values(by='neu', ascending=False).head(5)"
   ]
  },
  {
   "cell_type": "code",
   "execution_count": 32,
   "metadata": {},
   "outputs": [
    {
     "data": {
      "text/html": [
       "<div>\n",
       "<style scoped>\n",
       "    .dataframe tbody tr th:only-of-type {\n",
       "        vertical-align: middle;\n",
       "    }\n",
       "\n",
       "    .dataframe tbody tr th {\n",
       "        vertical-align: top;\n",
       "    }\n",
       "\n",
       "    .dataframe thead th {\n",
       "        text-align: right;\n",
       "    }\n",
       "</style>\n",
       "<table border=\"1\" class=\"dataframe\">\n",
       "  <thead>\n",
       "    <tr style=\"text-align: right;\">\n",
       "      <th></th>\n",
       "      <th>compound</th>\n",
       "      <th>neg</th>\n",
       "      <th>neu</th>\n",
       "      <th>pos</th>\n",
       "      <th>is_positive</th>\n",
       "    </tr>\n",
       "  </thead>\n",
       "  <tbody>\n",
       "    <tr>\n",
       "      <th>0</th>\n",
       "      <td>0.6287</td>\n",
       "      <td>0.058</td>\n",
       "      <td>0.841</td>\n",
       "      <td>0.101</td>\n",
       "      <td>0</td>\n",
       "    </tr>\n",
       "    <tr>\n",
       "      <th>1</th>\n",
       "      <td>0.9790</td>\n",
       "      <td>0.042</td>\n",
       "      <td>0.719</td>\n",
       "      <td>0.239</td>\n",
       "      <td>0</td>\n",
       "    </tr>\n",
       "    <tr>\n",
       "      <th>2</th>\n",
       "      <td>0.9887</td>\n",
       "      <td>0.032</td>\n",
       "      <td>0.823</td>\n",
       "      <td>0.146</td>\n",
       "      <td>1</td>\n",
       "    </tr>\n",
       "    <tr>\n",
       "      <th>3</th>\n",
       "      <td>0.1270</td>\n",
       "      <td>0.164</td>\n",
       "      <td>0.630</td>\n",
       "      <td>0.205</td>\n",
       "      <td>0</td>\n",
       "    </tr>\n",
       "    <tr>\n",
       "      <th>4</th>\n",
       "      <td>0.8657</td>\n",
       "      <td>0.023</td>\n",
       "      <td>0.854</td>\n",
       "      <td>0.122</td>\n",
       "      <td>0</td>\n",
       "    </tr>\n",
       "  </tbody>\n",
       "</table>\n",
       "</div>"
      ],
      "text/plain": [
       "   compound    neg    neu    pos  is_positive\n",
       "0    0.6287  0.058  0.841  0.101            0\n",
       "1    0.9790  0.042  0.719  0.239            0\n",
       "2    0.9887  0.032  0.823  0.146            1\n",
       "3    0.1270  0.164  0.630  0.205            0\n",
       "4    0.8657  0.023  0.854  0.122            0"
      ]
     },
     "execution_count": 32,
     "metadata": {},
     "output_type": "execute_result"
    }
   ],
   "source": [
    "df_vader_no_title = df_vader_review.drop('review', axis =1)\n",
    "\n",
    "df_vader_no_title.head()"
   ]
  },
  {
   "cell_type": "code",
   "execution_count": 49,
   "metadata": {},
   "outputs": [
    {
     "data": {
      "image/png": "[encoded data removed]",
      "text/plain": [
       "<Figure size 576x576 with 1 Axes>"
      ]
     },
     "metadata": {},
     "output_type": "display_data"
    },
    {
     "data": {
      "text/plain": [
       "<Figure size 432x288 with 0 Axes>"
      ]
     },
     "metadata": {},
     "output_type": "display_data"
    }
   ],
   "source": [
    "def display_corr_with_col(df, col):\n",
    "    correlation_matrix = df.corr()\n",
    "    correlation_type = correlation_matrix[col].copy()\n",
    "    abs_correlation_type = correlation_type.apply(lambda x: abs(x))\n",
    "    desc_corr_values = abs_correlation_type.sort_values(ascending=False)\n",
    "    y_values = list(desc_corr_values.values)[1:]\n",
    "    x_values = range(0,len(y_values))\n",
    "    xlabels = list(desc_corr_values.keys())[1:]\n",
    "    fig, ax = plt.subplots(figsize=(8,8))\n",
    "    ax.bar(x_values, y_values)\n",
    "    ax.set_title('The correlation of all features with {}'.format(col), fontsize=20)\n",
    "    ax.set_ylabel('Pearson correlatie coefficient [abs waarde]', fontsize=16)\n",
    "    plt.xticks(x_values, xlabels, rotation='vertical')\n",
    "    plt.show()\n",
    " \n",
    " \n",
    "display_corr_with_col(df_vader_no_title, 'is_positive')\n",
    "plt.savefig('./visuals/vader_corr.png')"
   ]
  },
  {
   "cell_type": "markdown",
   "metadata": {},
   "source": [
    "Its interesting to note above that the Compound score actually outperfroms the positive score in relation to the 'is_positive' column. This could iundicate thst it is a better metric to use  for classification purposes."
   ]
  },
  {
   "cell_type": "code",
   "execution_count": null,
   "metadata": {},
   "outputs": [],
   "source": []
  }
 ],
 "metadata": {
  "kernelspec": {
   "display_name": "Python 3",
   "language": "python",
   "name": "python3"
  },
  "language_info": {
   "codemirror_mode": {
    "name": "ipython",
    "version": 3
   },
   "file_extension": ".py",
   "mimetype": "text/x-python",
   "name": "python",
   "nbconvert_exporter": "python",
   "pygments_lexer": "ipython3",
   "version": "3.6.5"
  }
 },
 "nbformat": 4,
 "nbformat_minor": 2
}
